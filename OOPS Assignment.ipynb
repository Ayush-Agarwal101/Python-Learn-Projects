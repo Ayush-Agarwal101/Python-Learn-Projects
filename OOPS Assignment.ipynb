{
 "cells": [
  {
   "cell_type": "markdown",
   "id": "b651a3fd-0637-4464-a32f-b5e493ffaace",
   "metadata": {},
   "source": [
    "# Pizza Builder System"
   ]
  },
  {
   "cell_type": "code",
   "execution_count": 1,
   "id": "bcb02abf-e5dc-4e51-bc2e-3b67d875e487",
   "metadata": {},
   "outputs": [],
   "source": [
    "class Pizza:\n",
    "    def __init__(self, size, crust, sauce):\n",
    "        self.size = size\n",
    "        self.crust = crust\n",
    "        self.sauce = sauce\n",
    "        self.toppings = []\n",
    "\n",
    "    def add_topping(self, topping):\n",
    "        self.toppings.append(topping)\n",
    "\n",
    "    def show_pizza(self):\n",
    "        print(\"\\nYour Pizza Order Summary:\")\n",
    "        print(f\"Size: {self.size}\")\n",
    "        print(f\"Crust: {self.crust}\")\n",
    "        print(f\"Sauce: {self.sauce}\")\n",
    "        print(f\"Toppings: {', '.join(self.toppings) if self.toppings else 'None'}\")\n"
   ]
  },
  {
   "cell_type": "markdown",
   "id": "f28c651f-7980-45f3-b126-e20b86e045c0",
   "metadata": {},
   "source": [
    "**Input from user**"
   ]
  },
  {
   "cell_type": "code",
   "execution_count": 2,
   "id": "cf79afd8-ea9f-479c-9201-3feaeadd659d",
   "metadata": {},
   "outputs": [
    {
     "name": "stdin",
     "output_type": "stream",
     "text": [
      "Enter pizza size (Small, Medium, Large):  Medium\n"
     ]
    },
    {
     "name": "stdout",
     "output_type": "stream",
     "text": [
      "\n",
      "\n",
      "Available crust types: Thin Crust, Thick Crust, Cheese Burst, Stuffed Crust, Pan Crust\n"
     ]
    },
    {
     "name": "stdin",
     "output_type": "stream",
     "text": [
      "Enter crust type:  Stuffed Crust\n"
     ]
    },
    {
     "name": "stdout",
     "output_type": "stream",
     "text": [
      "\n",
      "\n",
      "Available sauce types: Tomato Basil, Marinara, Barbecue, Alfredo, Pesto, Buffalo\n"
     ]
    },
    {
     "name": "stdin",
     "output_type": "stream",
     "text": [
      "Enter sauce type:  Pesto\n"
     ]
    },
    {
     "name": "stdout",
     "output_type": "stream",
     "text": [
      "\n",
      "\n",
      "Available toppings: Mushrooms, Onions, Bell Peppers, Olives, Chicken Sausage, Pepperoni\n"
     ]
    },
    {
     "name": "stdin",
     "output_type": "stream",
     "text": [
      "Enter toppings (comma separated):  Olives, onions, mushrooms\n"
     ]
    },
    {
     "name": "stdout",
     "output_type": "stream",
     "text": [
      "\n",
      "\n",
      "\n",
      "Your Pizza Order Summary:\n",
      "Size: Medium\n",
      "Crust: Stuffed Crust\n",
      "Sauce: Pesto\n",
      "Toppings: Olives, onions, mushrooms\n"
     ]
    }
   ],
   "source": [
    "s = input(\"Enter pizza size (Small, Medium, Large): \")\n",
    "print(\"\\n\")\n",
    "\n",
    "print(\"Available crust types: Thin Crust, Thick Crust, Cheese Burst, Stuffed Crust, Pan Crust\")\n",
    "c = input(\"Enter crust type: \")\n",
    "print(\"\\n\")\n",
    "\n",
    "print(\"Available sauce types: Tomato Basil, Marinara, Barbecue, Alfredo, Pesto, Buffalo\")\n",
    "s1 = input(\"Enter sauce type: \")\n",
    "print(\"\\n\")\n",
    "\n",
    "print(\"Available toppings: Mushrooms, Onions, Bell Peppers, Olives, Chicken Sausage, Pepperoni\")\n",
    "t = input(\"Enter toppings (comma separated): \")\n",
    "print(\"\\n\")\n",
    "\n",
    "p1 = Pizza(s, c, s1)\n",
    "\n",
    "for topping in t.split(','):\n",
    "    p1.add_topping(topping.strip())\n",
    "\n",
    "p1.show_pizza()"
   ]
  },
  {
   "cell_type": "markdown",
   "id": "bf8754e1-d766-4a84-98e1-6b39c92657fb",
   "metadata": {},
   "source": [
    "*From chatgpt, I asked for idea on what simple program i can build and what examples should i fill inside sauce type, crust type, and topping type. And i was having problem on taking toppings list as input so i asked for that part from it.*"
   ]
  }
 ],
 "metadata": {
  "kernelspec": {
   "display_name": "Python 3 (ipykernel)",
   "language": "python",
   "name": "python3"
  },
  "language_info": {
   "codemirror_mode": {
    "name": "ipython",
    "version": 3
   },
   "file_extension": ".py",
   "mimetype": "text/x-python",
   "name": "python",
   "nbconvert_exporter": "python",
   "pygments_lexer": "ipython3",
   "version": "3.13.4"
  }
 },
 "nbformat": 4,
 "nbformat_minor": 5
}
