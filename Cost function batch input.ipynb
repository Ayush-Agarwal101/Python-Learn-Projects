{
 "cells": [
  {
   "cell_type": "code",
   "execution_count": 1,
   "id": "d5aad161-cff3-4338-a45f-38fff4460f6c",
   "metadata": {},
   "outputs": [],
   "source": [
    "import pandas as pd\n",
    "import numpy as np\n",
    "from PIL import Image\n",
    "from IPython.display import display\n",
    "\n",
    "def sigmoid(x):\n",
    "    return 1 / (1 + np.exp(-x))\n",
    "\n",
    "def cost(output, target):\n",
    "    return np.mean((output - target) ** 2)"
   ]
  },
  {
   "cell_type": "code",
   "execution_count": 2,
   "id": "77b8f622-f894-4f3b-856e-05294c7e516b",
   "metadata": {},
   "outputs": [],
   "source": [
    "# Layer Class\n",
    "class Layer:\n",
    "    def __init__(self, number, size):\n",
    "        self._number = number\n",
    "        self._size = size\n",
    "        self._data = None \n",
    "\n",
    "    @property\n",
    "    def number(self):\n",
    "        return self._number\n",
    "\n",
    "    @property\n",
    "    def size(self):\n",
    "        return self._size\n",
    "\n",
    "    @property\n",
    "    def data(self):\n",
    "        return self._data\n",
    "\n",
    "    @data.setter\n",
    "    def data(self, new_data):\n",
    "        if new_data.shape[1] == self._size:\n",
    "            self._data = new_data\n",
    "        else:\n",
    "            raise ValueError(\"Shape mismatch while setting layer data.\")\n",
    "\n",
    "# Weight Class\n",
    "class Weight:\n",
    "    def __init__(self, from_layer, to_layer):\n",
    "        self._value = np.random.randn(from_layer.size, to_layer.size).astype(np.float32)\n",
    "\n",
    "    @property\n",
    "    def value(self):\n",
    "        return self._value\n",
    "\n",
    "    @value.setter\n",
    "    def value(self, new_value):\n",
    "        if new_value.shape == self._value.shape:\n",
    "            self._value = new_value\n",
    "        else:\n",
    "            raise ValueError(\"Shape mismatch while setting weight value.\")\n",
    "\n",
    "# Bias Class\n",
    "class Bias:\n",
    "    def __init__(self, to_layer):\n",
    "        self._value = np.random.randn(1, to_layer.size).astype(np.float32)\n",
    "\n",
    "    @property\n",
    "    def value(self):\n",
    "        return self._value\n",
    "\n",
    "    @value.setter\n",
    "    def value(self, new_value):\n",
    "        if new_value.shape == self._value.shape:\n",
    "            self._value = new_value\n",
    "        else:\n",
    "            raise ValueError(\"Shape mismatch while setting bias value.\")\n",
    "\n",
    "# Neural Network Class\n",
    "class Neural:\n",
    "    def __init__(self, activation):\n",
    "        self._activation = activation\n",
    "        self._layers = []\n",
    "        self._weights = []\n",
    "        self._biases = []\n",
    "\n",
    "    def add_layer(self, layer):\n",
    "        self._layers.append(layer)\n",
    "        if len(self._layers) > 1:\n",
    "            self._weights.append(Weight(self._layers[-2], self._layers[-1]))\n",
    "            self._biases.append(Bias(self._layers[-1]))\n",
    "\n",
    "    def forward(self):\n",
    "        for i in range(1, len(self._layers)):\n",
    "            prev_data = self._layers[i-1].data\n",
    "            w = self._weights[i-1].value\n",
    "            b = self._biases[i-1].value\n",
    "            z = np.dot(prev_data, w) + b\n",
    "            activated = self._activation(z)\n",
    "            self._layers[i].data = activated\n",
    "\n",
    "    @property\n",
    "    def output(self):\n",
    "        return self._layers[-1].data\n"
   ]
  },
  {
   "cell_type": "code",
   "execution_count": 3,
   "id": "a5f6c9a8-a855-490f-bf1a-2a0f54cf0dcd",
   "metadata": {},
   "outputs": [
    {
     "name": "stdout",
     "output_type": "stream",
     "text": [
      "Label: 7\n"
     ]
    },
    {
     "data": {
      "image/jpeg": "[encoded data removed]",
      "image/png": "[encoded data removed]",
      "text/plain": [
       "<PIL.Image.Image image mode=L size=28x28>"
      ]
     },
     "metadata": {},
     "output_type": "display_data"
    },
    {
     "name": "stdout",
     "output_type": "stream",
     "text": [
      "Label: 2\n"
     ]
    },
    {
     "data": {
      "image/jpeg": "[encoded data removed]",
      "image/png": "[encoded data removed]",
      "text/plain": [
       "<PIL.Image.Image image mode=L size=28x28>"
      ]
     },
     "metadata": {},
     "output_type": "display_data"
    },
    {
     "name": "stdout",
     "output_type": "stream",
     "text": [
      "Label: 1\n"
     ]
    },
    {
     "data": {
      "image/jpeg": "[encoded data removed]",
      "image/png": "[encoded data removed]",
      "text/plain": [
       "<PIL.Image.Image image mode=L size=28x28>"
      ]
     },
     "metadata": {},
     "output_type": "display_data"
    },
    {
     "name": "stdout",
     "output_type": "stream",
     "text": [
      "Label: 0\n"
     ]
    },
    {
     "data": {
      "image/jpeg": "[encoded data removed]",
      "image/png": "[encoded data removed]",
      "text/plain": [
       "<PIL.Image.Image image mode=L size=28x28>"
      ]
     },
     "metadata": {},
     "output_type": "display_data"
    },
    {
     "name": "stdout",
     "output_type": "stream",
     "text": [
      "Label: 4\n"
     ]
    },
    {
     "data": {
      "image/jpeg": "[encoded data removed]",
      "image/png": "[encoded data removed]",
      "text/plain": [
       "<PIL.Image.Image image mode=L size=28x28>"
      ]
     },
     "metadata": {},
     "output_type": "display_data"
    },
    {
     "name": "stdout",
     "output_type": "stream",
     "text": [
      "Label: 1\n"
     ]
    },
    {
     "data": {
      "image/jpeg": "[encoded data removed]",
      "image/png": "[encoded data removed]",
      "text/plain": [
       "<PIL.Image.Image image mode=L size=28x28>"
      ]
     },
     "metadata": {},
     "output_type": "display_data"
    },
    {
     "name": "stdout",
     "output_type": "stream",
     "text": [
      "Label: 4\n"
     ]
    },
    {
     "data": {
      "image/jpeg": "[encoded data removed]",
      "image/png": "[encoded data removed]",
      "text/plain": [
       "<PIL.Image.Image image mode=L size=28x28>"
      ]
     },
     "metadata": {},
     "output_type": "display_data"
    },
    {
     "name": "stdout",
     "output_type": "stream",
     "text": [
      "Label: 9\n"
     ]
    },
    {
     "data": {
      "image/jpeg": "[encoded data removed]",
      "image/png": "[encoded data removed]",
      "text/plain": [
       "<PIL.Image.Image image mode=L size=28x28>"
      ]
     },
     "metadata": {},
     "output_type": "display_data"
    },
    {
     "name": "stdout",
     "output_type": "stream",
     "text": [
      "Label: 5\n"
     ]
    },
    {
     "data": {
      "image/jpeg": "[encoded data removed]",
      "image/png": "[encoded data removed]",
      "text/plain": [
       "<PIL.Image.Image image mode=L size=28x28>"
      ]
     },
     "metadata": {},
     "output_type": "display_data"
    },
    {
     "name": "stdout",
     "output_type": "stream",
     "text": [
      "Label: 9\n"
     ]
    },
    {
     "data": {
      "image/jpeg": "[encoded data removed]",
      "image/png": "[encoded data removed]",
      "text/plain": [
       "<PIL.Image.Image image mode=L size=28x28>"
      ]
     },
     "metadata": {},
     "output_type": "display_data"
    },
    {
     "name": "stdout",
     "output_type": "stream",
     "text": [
      "Predicted Digits: [9 9 9 9 9 9 3 9 9 9]\n",
      "Actual Labels    : [7 2 1 0 4 1 4 9 5 9]\n",
      "Cost : 0.39925233\n"
     ]
    }
   ],
   "source": [
    "# Load Dataset\n",
    "file_name = 'mnist_test.csv'\n",
    "df = pd.read_csv(file_name)\n",
    "\n",
    "labels = df['label'].values\n",
    "pixels = df.drop('label', axis=1).values.astype(np.uint8)\n",
    "\n",
    "# Batch Setup\n",
    "n = 10\n",
    "max_idx = len(labels) - 1\n",
    "idxs = list(range(n))\n",
    "\n",
    "# Display All Images\n",
    "for idx in idxs:\n",
    "    print(f\"Label: {labels[idx]}\")\n",
    "    display(Image.fromarray(pixels[idx].reshape(28, 28), mode='L'))\n",
    "\n",
    "# Normalize and Prepare Input Batch\n",
    "images = pixels[idxs].astype(np.float32) / 255.0  \n",
    "targets = np.zeros((n, 10), dtype=np.float32)    \n",
    "for i in range(n):\n",
    "    targets[i, labels[idxs[i]]] = 1\n",
    "\n",
    "# Build Network\n",
    "net = Neural(sigmoid)\n",
    "input_layer = Layer(1, 784)\n",
    "input_layer.data = images\n",
    "net.add_layer(input_layer)\n",
    "\n",
    "net.add_layer(Layer(2, 107))\n",
    "net.add_layer(Layer(3, 26))\n",
    "net.add_layer(Layer(4, 10))\n",
    "\n",
    "net.forward()\n",
    "\n",
    "# Prediction\n",
    "predictions = np.argmax(net.output, axis=1)\n",
    "print(\"Predicted Digits:\", predictions)\n",
    "print(\"Actual Labels    :\", labels[idxs])\n",
    "\n",
    "# Cost Function\n",
    "cost_function = cost(net.output, targets)\n",
    "print(\"Cost :\", cost_function)"
   ]
  }
 ],
 "metadata": {
  "kernelspec": {
   "display_name": "Python 3 (ipykernel)",
   "language": "python",
   "name": "python3"
  },
  "language_info": {
   "codemirror_mode": {
    "name": "ipython",
    "version": 3
   },
   "file_extension": ".py",
   "mimetype": "text/x-python",
   "name": "python",
   "nbconvert_exporter": "python",
   "pygments_lexer": "ipython3",
   "version": "3.13.4"
  }
 },
 "nbformat": 4,
 "nbformat_minor": 5
}
