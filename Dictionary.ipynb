{
 "cells": [
  {
   "cell_type": "code",
   "execution_count": 3,
   "id": "6c8fb2a0-0fcc-49d8-bb47-2705875c789e",
   "metadata": {},
   "outputs": [
    {
     "name": "stdout",
     "output_type": "stream",
     "text": [
      "Book rented record added successfully.\n",
      "Book rented record added successfully.\n",
      "Book rented record added successfully.\n"
     ]
    }
   ],
   "source": [
    "library_log = []\n",
    "\n",
    "def rent_book(name, book, time_of_rent, time_of_return, cost, address):\n",
    "    entry = {\n",
    "        'name': name,\n",
    "        'book': book,\n",
    "        'time_of_rent': time_of_rent,\n",
    "        'time_of_return': time_of_return,\n",
    "        'cost': cost,\n",
    "        'address': address\n",
    "    }\n",
    "    library_log.append(entry)\n",
    "    print(\"Book rented record added successfully.\")\n",
    "\n",
    "\n",
    "def view_all_records():\n",
    "    if not library_log:\n",
    "        print(\"No records found.\")\n",
    "    for idx, entry in enumerate(library_log, 1):\n",
    "        print(f\"\\nRecord {idx}\")\n",
    "        for key, value in entry.items():\n",
    "            print(f\"{key.capitalize()}: {value}\")\n",
    "\n",
    "\n",
    "def filter_records(filter_by, value):\n",
    "    found = False\n",
    "    index = 1\n",
    "    for entry in library_log:\n",
    "        if str(entry.get(filter_by, '')).lower() == str(value).lower():\n",
    "            print(f\"\\nFiltered Record {index}\")\n",
    "            for key, val in entry.items():\n",
    "                print(f\"{key.capitalize()}: {val}\")\n",
    "            found = True\n",
    "            index += 1\n",
    "    if not found:\n",
    "        print(f\"No records found with {filter_by} = {value}\")\n",
    "\n",
    "\n",
    "# Sample Data \n",
    "rent_book(\"Ram\", \"Atomic Habits\", \"2025-06-01\", \"2025-06-10\", 50, \"Kanpur\")\n",
    "rent_book(\"Priya\", \"The Alchemist\", \"2025-06-03\", \"2025-06-08\", 40, \"Delhi\")\n",
    "rent_book(\"Ram\", \"Deep Work\", \"2025-06-11\", \"2025-06-12\", 30, \"Kanpur\")\n",
    "\n"
   ]
  },
  {
   "cell_type": "code",
   "execution_count": 4,
   "id": "8294cf67-f91d-4dc3-9a27-d7751391169a",
   "metadata": {},
   "outputs": [
    {
     "name": "stdout",
     "output_type": "stream",
     "text": [
      "\n",
      "Record 1\n",
      "Name: Ram\n",
      "Book: Atomic Habits\n",
      "Time_of_rent: 2025-06-01\n",
      "Time_of_return: 2025-06-10\n",
      "Cost: 50\n",
      "Address: Kanpur\n",
      "\n",
      "Record 2\n",
      "Name: Priya\n",
      "Book: The Alchemist\n",
      "Time_of_rent: 2025-06-03\n",
      "Time_of_return: 2025-06-08\n",
      "Cost: 40\n",
      "Address: Delhi\n",
      "\n",
      "Record 3\n",
      "Name: Ram\n",
      "Book: Deep Work\n",
      "Time_of_rent: 2025-06-11\n",
      "Time_of_return: 2025-06-12\n",
      "Cost: 30\n",
      "Address: Kanpur\n"
     ]
    }
   ],
   "source": [
    "view_all_records()"
   ]
  }
 ],
 "metadata": {
  "kernelspec": {
   "display_name": "Python 3 (ipykernel)",
   "language": "python",
   "name": "python3"
  },
  "language_info": {
   "codemirror_mode": {
    "name": "ipython",
    "version": 3
   },
   "file_extension": ".py",
   "mimetype": "text/x-python",
   "name": "python",
   "nbconvert_exporter": "python",
   "pygments_lexer": "ipython3",
   "version": "3.13.4"
  }
 },
 "nbformat": 4,
 "nbformat_minor": 5
}
